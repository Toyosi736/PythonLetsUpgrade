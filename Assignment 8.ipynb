{
 "cells": [
  {
   "cell_type": "code",
   "execution_count": 1,
   "metadata": {},
   "outputs": [],
   "source": []
  },
  {
   "cell_type": "code",
   "execution_count": 2,
   "metadata": {},
   "outputs": [],
   "source": []
  },
  {
   "cell_type": "code",
   "execution_count": 82,
   "metadata": {},
   "outputs": [],
   "source": []
  },
  {
   "cell_type": "code",
   "execution_count": 5,
   "metadata": {},
   "outputs": [],
   "source": []
  },
  {
   "cell_type": "code",
   "execution_count": 6,
   "metadata": {},
   "outputs": [],
   "source": []
  },
  {
   "cell_type": "code",
   "execution_count": 7,
   "metadata": {},
   "outputs": [],
   "source": []
  },
  {
   "cell_type": "code",
   "execution_count": 40,
   "metadata": {},
   "outputs": [
    {
     "name": "stdout",
     "output_type": "stream",
     "text": [
      "Requirement already satisfied: firebase in c:\\programdata\\anaconda3\\lib\\site-packages (3.0.1)\n",
      "Requirement already satisfied: requests in c:\\programdata\\anaconda3\\lib\\site-packages (from firebase) (2.24.0)\n",
      "Requirement already satisfied: urllib3!=1.25.0,!=1.25.1,<1.26,>=1.21.1 in c:\\programdata\\anaconda3\\lib\\site-packages (from requests->firebase) (1.25.11)\n",
      "Requirement already satisfied: certifi>=2017.4.17 in c:\\programdata\\anaconda3\\lib\\site-packages (from requests->firebase) (2020.6.20)\n",
      "Requirement already satisfied: idna<3,>=2.5 in c:\\programdata\\anaconda3\\lib\\site-packages (from requests->firebase) (2.10)\n",
      "Requirement already satisfied: chardet<4,>=3.0.2 in c:\\programdata\\anaconda3\\lib\\site-packages (from requests->firebase) (3.0.4)\n"
     ]
    }
   ],
   "source": [
    "# Step 1\n",
    "!pip install firebase"
   ]
  },
  {
   "cell_type": "code",
   "execution_count": 31,
   "metadata": {},
   "outputs": [],
   "source": [
    "# Step 2\n",
    "# create a project in firebase\n",
    "# Step 3 - import firebase"
   ]
  },
  {
   "cell_type": "code",
   "execution_count": 42,
   "metadata": {},
   "outputs": [
    {
     "name": "stdout",
     "output_type": "stream",
     "text": [
      "Collecting firebase_admin\n",
      "  Downloading firebase_admin-4.5.0-py3-none-any.whl (111 kB)\n",
      "Collecting google-cloud-storage>=1.18.0\n",
      "  Downloading google_cloud_storage-1.35.0-py2.py3-none-any.whl (96 kB)\n",
      "Collecting google-api-core[grpc]<2.0.0dev,>=1.14.0; platform_python_implementation != \"PyPy\"\n",
      "  Downloading google_api_core-1.24.1-py2.py3-none-any.whl (92 kB)\n",
      "Collecting google-cloud-firestore>=1.4.0; platform_python_implementation != \"PyPy\"\n",
      "  Downloading google_cloud_firestore-2.0.2-py2.py3-none-any.whl (196 kB)\n",
      "Collecting cachecontrol>=0.12.6\n",
      "  Downloading CacheControl-0.12.6-py2.py3-none-any.whl (19 kB)\n",
      "Collecting google-api-python-client>=1.7.8\n",
      "  Downloading google_api_python_client-1.12.8-py2.py3-none-any.whl (61 kB)\n",
      "Collecting google-cloud-core<2.0dev,>=1.4.1\n",
      "  Downloading google_cloud_core-1.5.0-py2.py3-none-any.whl (27 kB)\n",
      "Collecting google-resumable-media<2.0dev,>=1.2.0\n",
      "  Downloading google_resumable_media-1.2.0-py2.py3-none-any.whl (75 kB)\n",
      "Requirement already satisfied: requests<3.0.0dev,>=2.18.0 in c:\\programdata\\anaconda3\\lib\\site-packages (from google-cloud-storage>=1.18.0->firebase_admin) (2.24.0)\n",
      "Collecting google-auth<2.0dev,>=1.11.0\n",
      "  Downloading google_auth-1.24.0-py2.py3-none-any.whl (114 kB)\n",
      "Requirement already satisfied: setuptools>=34.0.0 in c:\\programdata\\anaconda3\\lib\\site-packages (from google-api-core[grpc]<2.0.0dev,>=1.14.0; platform_python_implementation != \"PyPy\"->firebase_admin) (50.3.1.post20201107)\n",
      "Requirement already satisfied: pytz in c:\\programdata\\anaconda3\\lib\\site-packages (from google-api-core[grpc]<2.0.0dev,>=1.14.0; platform_python_implementation != \"PyPy\"->firebase_admin) (2020.1)\n",
      "Requirement already satisfied: six>=1.13.0 in c:\\programdata\\anaconda3\\lib\\site-packages (from google-api-core[grpc]<2.0.0dev,>=1.14.0; platform_python_implementation != \"PyPy\"->firebase_admin) (1.15.0)\n",
      "Collecting protobuf>=3.12.0\n",
      "  Downloading protobuf-3.14.0-py2.py3-none-any.whl (173 kB)\n",
      "Collecting googleapis-common-protos<2.0dev,>=1.6.0\n",
      "  Downloading googleapis_common_protos-1.52.0-py2.py3-none-any.whl (100 kB)\n",
      "Collecting grpcio<2.0dev,>=1.29.0; extra == \"grpc\"\n",
      "  Downloading grpcio-1.34.0-cp38-cp38-win_amd64.whl (2.9 MB)\n",
      "Collecting proto-plus>=1.3.0\n",
      "  Downloading proto-plus-1.13.0.tar.gz (44 kB)\n",
      "Requirement already satisfied: msgpack>=0.5.2 in c:\\programdata\\anaconda3\\lib\\site-packages (from cachecontrol>=0.12.6->firebase_admin) (1.0.0)\n",
      "Collecting uritemplate<4dev,>=3.0.0\n",
      "  Downloading uritemplate-3.0.1-py2.py3-none-any.whl (15 kB)\n",
      "Collecting httplib2<1dev,>=0.15.0\n",
      "  Downloading httplib2-0.18.1-py3-none-any.whl (95 kB)\n",
      "Collecting google-auth-httplib2>=0.0.3\n",
      "  Downloading google_auth_httplib2-0.0.4-py2.py3-none-any.whl (9.1 kB)\n",
      "Collecting google-crc32c<2.0dev,>=1.0; python_version >= \"3.5\"\n",
      "  Downloading google-crc32c-1.1.0.tar.gz (14 kB)\n",
      "  Installing build dependencies: started\n",
      "  Installing build dependencies: finished with status 'done'\n",
      "  Getting requirements to build wheel: started\n",
      "  Getting requirements to build wheel: finished with status 'done'\n",
      "  Installing backend dependencies: started\n",
      "  Installing backend dependencies: finished with status 'done'\n",
      "    Preparing wheel metadata: started\n",
      "    Preparing wheel metadata: finished with status 'done'\n",
      "Requirement already satisfied: certifi>=2017.4.17 in c:\\programdata\\anaconda3\\lib\\site-packages (from requests<3.0.0dev,>=2.18.0->google-cloud-storage>=1.18.0->firebase_admin) (2020.6.20)\n",
      "Requirement already satisfied: urllib3!=1.25.0,!=1.25.1,<1.26,>=1.21.1 in c:\\programdata\\anaconda3\\lib\\site-packages (from requests<3.0.0dev,>=2.18.0->google-cloud-storage>=1.18.0->firebase_admin) (1.25.11)\n",
      "Requirement already satisfied: chardet<4,>=3.0.2 in c:\\programdata\\anaconda3\\lib\\site-packages (from requests<3.0.0dev,>=2.18.0->google-cloud-storage>=1.18.0->firebase_admin) (3.0.4)\n",
      "Requirement already satisfied: idna<3,>=2.5 in c:\\programdata\\anaconda3\\lib\\site-packages (from requests<3.0.0dev,>=2.18.0->google-cloud-storage>=1.18.0->firebase_admin) (2.10)\n",
      "Collecting pyasn1-modules>=0.2.1\n",
      "  Downloading pyasn1_modules-0.2.8-py2.py3-none-any.whl (155 kB)\n",
      "Requirement already satisfied: cachetools<5.0,>=2.0.0 in c:\\programdata\\anaconda3\\lib\\site-packages (from google-auth<2.0dev,>=1.11.0->google-cloud-storage>=1.18.0->firebase_admin) (4.2.0)\n",
      "Collecting rsa<5,>=3.1.4; python_version >= \"3.6\"\n",
      "  Downloading rsa-4.6-py3-none-any.whl (47 kB)\n",
      "Requirement already satisfied: cffi>=1.0.0 in c:\\programdata\\anaconda3\\lib\\site-packages (from google-crc32c<2.0dev,>=1.0; python_version >= \"3.5\"->google-resumable-media<2.0dev,>=1.2.0->google-cloud-storage>=1.18.0->firebase_admin) (1.14.3)\n",
      "Collecting pyasn1<0.5.0,>=0.4.6\n",
      "  Downloading pyasn1-0.4.8-py2.py3-none-any.whl (77 kB)\n",
      "Requirement already satisfied: pycparser in c:\\programdata\\anaconda3\\lib\\site-packages (from cffi>=1.0.0->google-crc32c<2.0dev,>=1.0; python_version >= \"3.5\"->google-resumable-media<2.0dev,>=1.2.0->google-cloud-storage>=1.18.0->firebase_admin) (2.20)\n",
      "Building wheels for collected packages: proto-plus, google-crc32c\n",
      "  Building wheel for proto-plus (setup.py): started\n",
      "  Building wheel for proto-plus (setup.py): finished with status 'done'\n",
      "  Created wheel for proto-plus: filename=proto_plus-1.13.0-py3-none-any.whl size=41595 sha256=5493963e786ed3c584643c6d238d508c9c25ab5f7b4ff24b9c6b898a81f157df\n",
      "  Stored in directory: c:\\users\\temitope\\appdata\\local\\pip\\cache\\wheels\\c4\\f7\\51\\d264693ef5a67296bb5601bca5834f5d5b12e325eb4b2d3f7f\n",
      "  Building wheel for google-crc32c (PEP 517): started\n",
      "  Building wheel for google-crc32c (PEP 517): finished with status 'done'\n",
      "  Created wheel for google-crc32c: filename=google_crc32c-1.1.0-py3-none-any.whl size=14065 sha256=c40f485a46f5ed0f1f319c71270aa7389da58435d460e34bbce9ca412aac3151\n",
      "  Stored in directory: c:\\users\\temitope\\appdata\\local\\pip\\cache\\wheels\\ff\\b6\\b6\\fed658e7c3ce2ed7f140cf7739276593386464b11ee72f0752\n",
      "Successfully built proto-plus google-crc32c\n",
      "Installing collected packages: protobuf, pyasn1, pyasn1-modules, rsa, google-auth, googleapis-common-protos, grpcio, google-api-core, google-cloud-core, google-crc32c, google-resumable-media, google-cloud-storage, proto-plus, google-cloud-firestore, cachecontrol, uritemplate, httplib2, google-auth-httplib2, google-api-python-client, firebase-admin\n",
      "Successfully installed cachecontrol-0.12.6 firebase-admin-4.5.0 google-api-core-1.24.1 google-api-python-client-1.12.8 google-auth-1.24.0 google-auth-httplib2-0.0.4 google-cloud-core-1.5.0 google-cloud-firestore-2.0.2 google-cloud-storage-1.35.0 google-crc32c-1.1.0 google-resumable-media-1.2.0 googleapis-common-protos-1.52.0 grpcio-1.34.0 httplib2-0.18.1 proto-plus-1.13.0 protobuf-3.14.0 pyasn1-0.4.8 pyasn1-modules-0.2.8 rsa-4.6 uritemplate-3.0.1\n"
     ]
    }
   ],
   "source": [
    "!pip install firebase_admin"
   ]
  },
  {
   "cell_type": "code",
   "execution_count": 43,
   "metadata": {},
   "outputs": [],
   "source": [
    "import firebase_admin"
   ]
  },
  {
   "cell_type": "code",
   "execution_count": 46,
   "metadata": {},
   "outputs": [],
   "source": [
    "#Step 4\n",
    "from firebase_admin import credentials\n",
    "from firebase_admin import firestore # step 4"
   ]
  },
  {
   "cell_type": "code",
   "execution_count": 47,
   "metadata": {},
   "outputs": [],
   "source": [
    "# Step 5 - Download the cred key from the firebase"
   ]
  },
  {
   "cell_type": "code",
   "execution_count": 48,
   "metadata": {},
   "outputs": [],
   "source": [
    "# step 6 - place it in your folder where the firebase project is hapening "
   ]
  },
  {
   "cell_type": "code",
   "execution_count": 49,
   "metadata": {},
   "outputs": [
    {
     "data": {
      "text/plain": [
       "<firebase_admin.App at 0xee7609a220>"
      ]
     },
     "execution_count": 49,
     "metadata": {},
     "output_type": "execute_result"
    }
   ],
   "source": [
    "cred = credentials.Certificate(\"first_project_letsupgrade.json\")\n",
    "firebase_admin.initialize_app(cred)"
   ]
  },
  {
   "cell_type": "code",
   "execution_count": 51,
   "metadata": {},
   "outputs": [],
   "source": [
    "db = firestore.client()"
   ]
  },
  {
   "cell_type": "code",
   "execution_count": 52,
   "metadata": {},
   "outputs": [
    {
     "data": {
      "text/plain": [
       "update_time {\n",
       "  seconds: 1608392356\n",
       "  nanos: 888415000\n",
       "}"
      ]
     },
     "execution_count": 52,
     "metadata": {},
     "output_type": "execute_result"
    }
   ],
   "source": [
    "doc_ref = db.collection(u'users').document(u'abc')\n",
    "\n",
    "doc_ref.set({\n",
    "    u'first': u'Toyosi',\n",
    "    u'last': u'Oluwajana',\n",
    "    u'born': 1999\n",
    "})"
   ]
  },
  {
   "cell_type": "code",
   "execution_count": 58,
   "metadata": {},
   "outputs": [],
   "source": [
    "#step 7\n",
    "def enterDataInDB(name,lastName,age):\n",
    "    doc_ref = db.collection(u'LetsUpgradeUsers').document()\n",
    "    dit = {}\n",
    "    dit[\"firstName\"] = name\n",
    "    dit[\"lastName\"] = lastName\n",
    "    dit[\"age\"] = age\n",
    "    doc_ref.set(dit)"
   ]
  },
  {
   "cell_type": "code",
   "execution_count": 59,
   "metadata": {},
   "outputs": [],
   "source": [
    "enterDataInDB(\"Glory\", \"Amuah\", 22)"
   ]
  },
  {
   "cell_type": "code",
   "execution_count": 60,
   "metadata": {},
   "outputs": [],
   "source": [
    "enterDataInDB(\"Jael\", \"Yakubu\", 35)"
   ]
  },
  {
   "cell_type": "code",
   "execution_count": 61,
   "metadata": {},
   "outputs": [],
   "source": [
    "enterDataInDB(\"Mercy\", \"Jana\", 29)"
   ]
  },
  {
   "cell_type": "code",
   "execution_count": 62,
   "metadata": {},
   "outputs": [],
   "source": [
    "enterDataInDB(\"Glory\", \"Adesina\", 45)"
   ]
  },
  {
   "cell_type": "code",
   "execution_count": 63,
   "metadata": {},
   "outputs": [],
   "source": [
    "enterDataInDB(\"Jeff\", \"Ari\", 31)"
   ]
  },
  {
   "cell_type": "code",
   "execution_count": 64,
   "metadata": {},
   "outputs": [],
   "source": [
    "enterDataInDB(\"Tope\", \"Femi\", 24)"
   ]
  },
  {
   "cell_type": "code",
   "execution_count": 65,
   "metadata": {},
   "outputs": [],
   "source": [
    "enterDataInDB(\"Tunde\", \"Oni\", 22)"
   ]
  },
  {
   "cell_type": "code",
   "execution_count": 66,
   "metadata": {},
   "outputs": [],
   "source": [
    "enterDataInDB(\"Femi\", \"Oloye\", 27)"
   ]
  },
  {
   "cell_type": "code",
   "execution_count": 67,
   "metadata": {},
   "outputs": [],
   "source": [
    "#step 7\n",
    "def enterDataInDB2():\n",
    "    doc_ref = db.collection(u'LetsUpgradeUsers').document()\n",
    "    name = input(\"Enter Name - \")\n",
    "    lastName = input(\"Enter Last Name - \")\n",
    "    age = input(\"Enter Age - \")\n",
    "    dit = {}\n",
    "    dit[\"firstName\"] = name\n",
    "    dit[\"lastName\"] = lastName\n",
    "    dit[\"age\"] = age\n",
    "    doc_ref.set(dit)"
   ]
  },
  {
   "cell_type": "code",
   "execution_count": 69,
   "metadata": {},
   "outputs": [
    {
     "name": "stdout",
     "output_type": "stream",
     "text": [
      "Enter Name - Olaitan\n",
      "Enter Last Name - Olaoye\n",
      "Enter Age - 22\n"
     ]
    }
   ],
   "source": [
    "enterDataInDB2()"
   ]
  },
  {
   "cell_type": "code",
   "execution_count": 70,
   "metadata": {},
   "outputs": [],
   "source": [
    "# Step 8\n",
    "# Read data from Firebase DB (FIRESTORE)"
   ]
  },
  {
   "cell_type": "code",
   "execution_count": 71,
   "metadata": {},
   "outputs": [
    {
     "name": "stdout",
     "output_type": "stream",
     "text": [
      "94Wc3ZBHRXodcs2OJjT9 => {'lastName': 'Yakubu', 'age': 35, 'firstName': 'Jael'}\n",
      "BvcySdt14jQMc1zp1Zfu => {'age': 29, 'lastName': 'Jana', 'firstName': 'Mercy'}\n",
      "FfbZGKkBUa5PRMpSpAlB => {'firstName': 'Femi', 'lastName': 'Oloye', 'age': 27}\n",
      "FqbPX5s3zIS8gT3MlDLS => {'age': 31, 'lastName': 'Ari', 'firstName': 'Jeff'}\n",
      "XWX7Kl6hqFbtpHBDlRdj => {'lastName': 'Adesina', 'age': 45, 'firstName': 'Glory'}\n",
      "izgzXbIuGGovq0SAzde3 => {'lastName': 'Olaoye', 'age': '22', 'firstName': 'Olaitan'}\n",
      "ljCtCsfU1jv80WJK1Qye => {'firstName': 'Glory', 'age': 22, 'lastName': 'Amuah'}\n",
      "v8rTkR86EVb7P6VSnkaU => {'age': 22, 'firstName': 'Tunde', 'lastName': 'Oni'}\n",
      "zcf401pP8uDPzuTqLr5G => {'lastName': 'Femi', 'firstName': 'Tope', 'age': 24}\n"
     ]
    }
   ],
   "source": [
    "docs = db.collection(u'LetsUpgradeUsers').stream()\n",
    "\n",
    "for doc in docs:\n",
    "    print(f'{doc.id} => {doc.to_dict()}')"
   ]
  },
  {
   "cell_type": "code",
   "execution_count": 72,
   "metadata": {},
   "outputs": [
    {
     "name": "stdout",
     "output_type": "stream",
     "text": [
      "ID -  94Wc3ZBHRXodcs2OJjT9\n",
      "First Name -  Jael\n",
      "Last Name -  Yakubu\n",
      "Age -  35\n",
      "-------------\n",
      "-------------\n",
      "ID -  BvcySdt14jQMc1zp1Zfu\n",
      "First Name -  Mercy\n",
      "Last Name -  Jana\n",
      "Age -  29\n",
      "-------------\n",
      "-------------\n",
      "ID -  FfbZGKkBUa5PRMpSpAlB\n",
      "First Name -  Femi\n",
      "Last Name -  Oloye\n",
      "Age -  27\n",
      "-------------\n",
      "-------------\n",
      "ID -  FqbPX5s3zIS8gT3MlDLS\n",
      "First Name -  Jeff\n",
      "Last Name -  Ari\n",
      "Age -  31\n",
      "-------------\n",
      "-------------\n",
      "ID -  XWX7Kl6hqFbtpHBDlRdj\n",
      "First Name -  Glory\n",
      "Last Name -  Adesina\n",
      "Age -  45\n",
      "-------------\n",
      "-------------\n",
      "ID -  izgzXbIuGGovq0SAzde3\n",
      "First Name -  Olaitan\n",
      "Last Name -  Olaoye\n",
      "Age -  22\n",
      "-------------\n",
      "-------------\n",
      "ID -  ljCtCsfU1jv80WJK1Qye\n",
      "First Name -  Glory\n",
      "Last Name -  Amuah\n",
      "Age -  22\n",
      "-------------\n",
      "-------------\n",
      "ID -  v8rTkR86EVb7P6VSnkaU\n",
      "First Name -  Tunde\n",
      "Last Name -  Oni\n",
      "Age -  22\n",
      "-------------\n",
      "-------------\n",
      "ID -  zcf401pP8uDPzuTqLr5G\n",
      "First Name -  Tope\n",
      "Last Name -  Femi\n",
      "Age -  24\n",
      "-------------\n",
      "-------------\n"
     ]
    }
   ],
   "source": [
    "docs = db.collection(u'LetsUpgradeUsers').stream()\n",
    "\n",
    "for doc in docs:\n",
    "#    print(f'{doc.id} => {doc.to_dict()}')\n",
    "    \n",
    "    print(\"ID - \", doc.id)\n",
    "    print(\"First Name - \", doc.to_dict().get(\"firstName\"))\n",
    "    print(\"Last Name - \",doc.to_dict().get(\"lastName\"))\n",
    "    print(\"Age - \",doc.to_dict().get(\"age\"))\n",
    "    \n",
    "    print(\"-------------\")\n",
    "    print(\"-------------\")"
   ]
  },
  {
   "cell_type": "code",
   "execution_count": 73,
   "metadata": {},
   "outputs": [],
   "source": [
    "# Any Application in the whole world uses 4 activities \n",
    "# C- Create\n",
    "# R- Read\n",
    "# U - Update\n",
    "# D- Delete"
   ]
  },
  {
   "cell_type": "code",
   "execution_count": 74,
   "metadata": {},
   "outputs": [],
   "source": [
    "#Step 9- Update a Entry ->\n",
    "\n",
    "def updateDatainFirebase(uid, updatedAge):\n",
    "    doc_ref = db.collection(u'LetsUpgradeUsers').document(uid)\n",
    "    \n",
    "    doc_ref.update({\"age\":updatedAge})"
   ]
  },
  {
   "cell_type": "code",
   "execution_count": 75,
   "metadata": {},
   "outputs": [],
   "source": [
    "updateDatainFirebase(\"zcf401pP8uDPzuTqLr5G\", 51)"
   ]
  },
  {
   "cell_type": "code",
   "execution_count": 79,
   "metadata": {},
   "outputs": [],
   "source": [
    "# Step 10 - Delete Data from Firebase\n",
    "\n",
    "def deleteDataInFirebase(uid):\n",
    "    db.collection(u'LetsUpgradeUsers').document(uid).delete()"
   ]
  },
  {
   "cell_type": "code",
   "execution_count": 81,
   "metadata": {},
   "outputs": [],
   "source": [
    "deleteDataInFirebase(\"FqbPX5s3zIS8gT3MlDLS\")"
   ]
  },
  {
   "cell_type": "code",
   "execution_count": null,
   "metadata": {},
   "outputs": [],
   "source": []
  }
 ],
 "metadata": {
  "kernelspec": {
   "display_name": "Python 3",
   "language": "python",
   "name": "python3"
  },
  "language_info": {
   "codemirror_mode": {
    "name": "ipython",
    "version": 3
   },
   "file_extension": ".py",
   "mimetype": "text/x-python",
   "name": "python",
   "nbconvert_exporter": "python",
   "pygments_lexer": "ipython3",
   "version": "3.8.5"
  }
 },
 "nbformat": 4,
 "nbformat_minor": 4
}
