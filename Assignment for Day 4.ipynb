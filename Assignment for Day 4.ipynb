{
 "cells": [
  {
   "cell_type": "markdown",
   "metadata": {},
   "source": [
    "# Write down a program in Python for Opening a File and Writing \" I Love LetsUpgrade\" And close it, and read it back again, and then append some data to it and close it."
   ]
  },
  {
   "cell_type": "code",
   "execution_count": 1,
   "metadata": {},
   "outputs": [],
   "source": [
    "T = open(\"LetsUpgrade_File\",'w')\n",
    "\n",
    "T.write(\"I Love LetsUpgrade\")\n",
    "\n",
    "T.close()"
   ]
  },
  {
   "cell_type": "code",
   "execution_count": 2,
   "metadata": {},
   "outputs": [],
   "source": [
    "T = open(\"LetsUpgrade_File\",'r')\n",
    "\n",
    "content = T.read()\n",
    "\n",
    "T.close()"
   ]
  },
  {
   "cell_type": "code",
   "execution_count": 3,
   "metadata": {},
   "outputs": [
    {
     "data": {
      "text/plain": [
       "'I Love LetsUpgrade'"
      ]
     },
     "execution_count": 3,
     "metadata": {},
     "output_type": "execute_result"
    }
   ],
   "source": [
    "content"
   ]
  },
  {
   "cell_type": "code",
   "execution_count": 4,
   "metadata": {},
   "outputs": [],
   "source": [
    "T = open(\"LetsUpgrade_File\",'a')\n",
    "\n",
    "T.write(\" Their Python class is really educative\")\n",
    "\n",
    "T.close()"
   ]
  },
  {
   "cell_type": "markdown",
   "metadata": {},
   "source": [
    "# Write a function which can return a Factorial of any numbers as INT, given in the argument."
   ]
  },
  {
   "cell_type": "code",
   "execution_count": 28,
   "metadata": {},
   "outputs": [
    {
     "name": "stdout",
     "output_type": "stream",
     "text": [
      "Please enter number to find factorial: 5\n",
      "The factorial of 5 = 120\n"
     ]
    }
   ],
   "source": [
    "num = int(input(\"Please enter number to find factorial: \"))\n",
    "\n",
    "def factorial(num):\n",
    "        fact = 1\n",
    "   \n",
    "        for i in range(1,num + 1):\n",
    "            fact = fact * i\n",
    "    \n",
    "        return fact\n",
    "\n",
    "facto = factorial(num)\n",
    "print(\"The factorial of %d = %d\" %(num,facto))"
   ]
  },
  {
   "cell_type": "code",
   "execution_count": 37,
   "metadata": {},
   "outputs": [
    {
     "name": "stdout",
     "output_type": "stream",
     "text": [
      "Enter the number: 5\n",
      "factorial of  5 : 120\n"
     ]
    }
   ],
   "source": [
    "import math\n",
    "num = int(input(\"Enter the number: \"))\n",
    "print(\"factorial of \" ,num,\": \",end=\"\")\n",
    "print(math.factorial(num))"
   ]
  },
  {
   "cell_type": "code",
   "execution_count": null,
   "metadata": {},
   "outputs": [],
   "source": []
  },
  {
   "cell_type": "code",
   "execution_count": null,
   "metadata": {},
   "outputs": [],
   "source": []
  },
  {
   "cell_type": "code",
   "execution_count": null,
   "metadata": {},
   "outputs": [],
   "source": []
  }
 ],
 "metadata": {
  "kernelspec": {
   "display_name": "Python 3",
   "language": "python",
   "name": "python3"
  },
  "language_info": {
   "codemirror_mode": {
    "name": "ipython",
    "version": 3
   },
   "file_extension": ".py",
   "mimetype": "text/x-python",
   "name": "python",
   "nbconvert_exporter": "python",
   "pygments_lexer": "ipython3",
   "version": "3.8.5"
  }
 },
 "nbformat": 4,
 "nbformat_minor": 4
}
